{
 "cells": [
  {
   "cell_type": "code",
   "execution_count": 2,
   "metadata": {},
   "outputs": [],
   "source": [
    "import numpy as np\n",
    "import cvxpy as cp\n",
    "import scipy as sp"
   ]
  },
  {
   "cell_type": "code",
   "execution_count": 3,
   "metadata": {},
   "outputs": [
    {
     "name": "stdout",
     "output_type": "stream",
     "text": [
      "[[1 1 0 0]\n",
      " [1 1 0 0]\n",
      " [0 0 1 0]\n",
      " [0 0 0 1]]\n"
     ]
    }
   ],
   "source": [
    "graph = np.random.randint(0, 2, (4, 4))\n",
    "graph = graph.T * graph\n",
    "num_rows, num_columns = graph.shape\n",
    "for i in range(num_rows):\n",
    "  graph[i][i] = 1\n",
    "print(graph)\n"
   ]
  },
  {
   "cell_type": "code",
   "execution_count": 4,
   "metadata": {},
   "outputs": [
    {
     "name": "stdout",
     "output_type": "stream",
     "text": [
      "[[1 0 0 1]\n",
      " [1 0 0 1]\n",
      " [1 1 0 1]\n",
      " [0 1 0 1]]\n"
     ]
    }
   ],
   "source": [
    "start_nodes = np.random.randint(low = 0, high = 2, size = (4, 4))\n",
    "print(start_nodes)"
   ]
  },
  {
   "cell_type": "code",
   "execution_count": 5,
   "metadata": {},
   "outputs": [],
   "source": [
    "start_times = np.random.randint(0, 3, size=(3,))\n",
    "f = []\n",
    "t = 3\n",
    "p = 3\n",
    "for i in range(t):\n",
    "  sub_f = []\n",
    "  for j in range(p):\n",
    "    sub_f.append(cp.Variable((4, 4), boolean=True))\n",
    "  f.append(sub_f)\n"
   ]
  },
  {
   "cell_type": "code",
   "execution_count": 6,
   "metadata": {},
   "outputs": [],
   "source": [
    "constraints = []\n",
    "constraint1 = 0\n",
    "for i in range(t):\n",
    "  for j in range(p):\n",
    "    constraint1 += f[i][j]\n",
    "  constraints.append(constraint1 <= 1)"
   ]
  },
  {
   "cell_type": "code",
   "execution_count": 7,
   "metadata": {},
   "outputs": [],
   "source": [
    "constraint2 = 0\n",
    "constraint3 = 0\n",
    "for i in range(p):\n",
    "  for j in range(start_times[i]+1):\n",
    "    constraint2 += f[i][j]\n",
    "  constraints.append(constraint2 == 0)\n",
    "  for j in range(start_times[i] + 1, t):\n",
    "    constraint3 += f[i][j]\n",
    "  constraints.append(constraint3 <= 1)\n"
   ]
  },
  {
   "cell_type": "code",
   "execution_count": 8,
   "metadata": {},
   "outputs": [
    {
     "data": {
      "text/plain": [
       "()"
      ]
     },
     "execution_count": 8,
     "metadata": {},
     "output_type": "execute_result"
    }
   ],
   "source": [
    "objective = 0\n",
    "for i in range(1, t):\n",
    "  for j in range(1, p):\n",
    "    objective = objective + sum(sum(f[i][j]))\n",
    "objective.shape"
   ]
  },
  {
   "cell_type": "code",
   "execution_count": 9,
   "metadata": {},
   "outputs": [
    {
     "name": "stdout",
     "output_type": "stream",
     "text": [
      "['CVXOPT', 'ECOS', 'ECOS_BB', 'GLPK', 'GLPK_MI', 'OSQP', 'SCIPY', 'SCS']\n"
     ]
    }
   ],
   "source": [
    "print(cp.installed_solvers())"
   ]
  },
  {
   "cell_type": "code",
   "execution_count": 11,
   "metadata": {},
   "outputs": [
    {
     "name": "stdout",
     "output_type": "stream",
     "text": [
      "===============================================================================\n",
      "                                     CVXPY                                     \n",
      "                                     v1.2.2                                    \n",
      "===============================================================================\n",
      "(CVXPY) Dec 15 08:31:13 AM: Your problem has 144 variables, 9 constraints, and 0 parameters.\n",
      "(CVXPY) Dec 15 08:31:13 AM: It is compliant with the following grammars: DCP, DQCP\n",
      "(CVXPY) Dec 15 08:31:13 AM: (If you need to solve this problem multiple times, but with different data, consider using parameters.)\n",
      "(CVXPY) Dec 15 08:31:13 AM: CVXPY will first compile your problem; then, it will invoke a numerical solver to obtain a solution.\n",
      "-------------------------------------------------------------------------------\n",
      "                                  Compilation                                  \n",
      "-------------------------------------------------------------------------------\n",
      "(CVXPY) Dec 15 08:31:13 AM: Compiling problem (target solver=GLPK_MI).\n",
      "(CVXPY) Dec 15 08:31:13 AM: Reduction chain: FlipObjective -> Dcp2Cone -> CvxAttr2Constr -> ConeMatrixStuffing -> GLPK_MI\n",
      "(CVXPY) Dec 15 08:31:13 AM: Applying reduction FlipObjective\n",
      "(CVXPY) Dec 15 08:31:13 AM: Applying reduction Dcp2Cone\n",
      "(CVXPY) Dec 15 08:31:13 AM: Applying reduction CvxAttr2Constr\n",
      "(CVXPY) Dec 15 08:31:13 AM: Applying reduction ConeMatrixStuffing\n",
      "(CVXPY) Dec 15 08:31:13 AM: Applying reduction GLPK_MI\n",
      "(CVXPY) Dec 15 08:31:13 AM: Finished problem compilation (took 1.957e-02 seconds).\n",
      "-------------------------------------------------------------------------------\n",
      "                                Numerical solver                               \n",
      "-------------------------------------------------------------------------------\n",
      "(CVXPY) Dec 15 08:31:13 AM: Invoking solver GLPK_MI  to obtain a solution.\n",
      "-------------------------------------------------------------------------------\n",
      "                                    Summary                                    \n",
      "-------------------------------------------------------------------------------\n",
      "(CVXPY) Dec 15 08:31:13 AM: Problem status: optimal\n",
      "*     0: obj =   0.000000000e+00 inf =   0.000e+00 (64)\n",
      "*    48: obj =  -1.600000000e+01 inf =   0.000e+00 (0)\n",
      "+    48: mip =     not found yet >=              -inf        (1; 0)\n",
      "+    48: >>>>>  -1.600000000e+01 >=  -1.600000000e+01   0.0% (1; 0)\n",
      "+    48: mip =  -1.600000000e+01 >=     tree is empty   0.0% (0; 1)\n",
      "(CVXPY) Dec 15 08:31:13 AM: Optimal value: 1.600e+01\n",
      "(CVXPY) Dec 15 08:31:13 AM: Compilation took 1.957e-02 seconds\n",
      "(CVXPY) Dec 15 08:31:13 AM: Solver (including time spent in interface) took 1.799e-03 seconds\n",
      "Status:  optimal\n",
      "Optimal value:  16.0\n",
      "Time slot #0\n",
      "Request #0\n",
      "[[0. 0. 0. 0.]\n",
      " [0. 0. 0. 0.]\n",
      " [0. 0. 0. 0.]\n",
      " [0. 0. 0. 0.]]\n",
      "Request #1\n",
      "[[0. 0. 0. 0.]\n",
      " [0. 0. 0. 0.]\n",
      " [0. 0. 0. 0.]\n",
      " [0. 0. 0. 0.]]\n",
      "Request #2\n",
      "[[0. 0. 0. 0.]\n",
      " [0. 0. 0. 0.]\n",
      " [0. 0. 0. 0.]\n",
      " [0. 0. 0. 0.]]\n",
      "Time slot #1\n",
      "Request #0\n",
      "[[0. 0. 0. 0.]\n",
      " [0. 0. 0. 0.]\n",
      " [0. 0. 0. 0.]\n",
      " [0. 0. 0. 0.]]\n",
      "Request #1\n",
      "[[1. 1. 1. 1.]\n",
      " [1. 1. 1. 1.]\n",
      " [1. 1. 1. 1.]\n",
      " [1. 1. 1. 1.]]\n",
      "Request #2\n",
      "[[0. 0. 0. 0.]\n",
      " [0. 0. 0. 0.]\n",
      " [0. 0. 0. 0.]\n",
      " [0. 0. 0. 0.]]\n",
      "Time slot #2\n",
      "Request #0\n",
      "[[0. 0. 0. 0.]\n",
      " [0. 0. 0. 0.]\n",
      " [0. 0. 0. 0.]\n",
      " [0. 0. 0. 0.]]\n",
      "Request #1\n",
      "[[0. 0. 0. 0.]\n",
      " [0. 0. 0. 0.]\n",
      " [0. 0. 0. 0.]\n",
      " [0. 0. 0. 0.]]\n",
      "Request #2\n",
      "[[0. 0. 0. 0.]\n",
      " [0. 0. 0. 0.]\n",
      " [0. 0. 0. 0.]\n",
      " [0. 0. 0. 0.]]\n"
     ]
    }
   ],
   "source": [
    "problem = cp.Problem(cp.Maximize(objective), constraints)\n",
    "problem.solve(solver = 'GLPK_MI',  verbose=True)\n",
    "print(\"Status: \", problem.status)\n",
    "print(\"Optimal value: \", problem.value)\n",
    "counter = 0\n",
    "for i in range(t):\n",
    "  print(\"Time slot #{}\".format(i))\n",
    "  for j in range(p):\n",
    "    print(\"Request #{}\".format(j))\n",
    "    print(f[i][j].value)\n"
   ]
  }
 ],
 "metadata": {
  "kernelspec": {
   "display_name": "Python 3.9.13 ('qn')",
   "language": "python",
   "name": "python3"
  },
  "language_info": {
   "codemirror_mode": {
    "name": "ipython",
    "version": 3
   },
   "file_extension": ".py",
   "mimetype": "text/x-python",
   "name": "python",
   "nbconvert_exporter": "python",
   "pygments_lexer": "ipython3",
   "version": "3.9.13"
  },
  "orig_nbformat": 4,
  "vscode": {
   "interpreter": {
    "hash": "a584c6e904a8fc647cfebe5b9031a660b638dd47076b611fbf6c2831115e2b0c"
   }
  }
 },
 "nbformat": 4,
 "nbformat_minor": 2
}
